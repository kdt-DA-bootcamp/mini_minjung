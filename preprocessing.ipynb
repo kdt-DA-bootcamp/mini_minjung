{
 "cells": [
  {
   "cell_type": "code",
   "execution_count": 1,
   "metadata": {},
   "outputs": [
    {
     "name": "stdout",
     "output_type": "stream",
     "text": [
      "   customer_id  customer_name product_name  \\\n",
      "0         6984           6984  롯데손해보험 치아보험   \n",
      "1         7629           7629   한화생명 어린이보험   \n",
      "2         9045           9045  DB손해보험 건강보험   \n",
      "3         3210           3210  NH농협생명 종신보험   \n",
      "4         6392           6392    삼성화재 실비보험   \n",
      "\n",
      "                                call_id  agent_id   call_date call_time  \\\n",
      "0  5e756162-8787-4f9b-9e7c-42f6c24bf73b       700  2025-01-18  07:10:59   \n",
      "1  68276715-9dda-4cd5-a332-8e97b55f8373       984  2025-01-08  16:08:54   \n",
      "2  2c159eee-8de4-4a1e-ae97-2a4e499ce77b       983  2025-01-14  09:13:05   \n",
      "3  4b1dac3f-60cb-42e2-b28a-0c824f759933       116  2025-01-22  15:00:18   \n",
      "4  8d57a9f8-d692-4e3e-870b-155b3ea08c86       654  2025-01-17  15:30:28   \n",
      "\n",
      "   gender  age  type              call_content  negative_count type_text  \\\n",
      "0       0   66     5           기타 불만 사항이 있습니다.               7      보장내용   \n",
      "1       1   33     4  보험료를 해지하고 싶은데 절차가 복잡합니다.              12     보험료해지   \n",
      "2       1   39     5  보험금을 청구했는데 지급이 지연되고 있어요.              12      보장내용   \n",
      "3       0   45     5  설계사가 계약 내용을 잘 설명하지 않았어요.              11      보장내용   \n",
      "4       1   64     6  설계사가 계약 내용을 잘 설명하지 않았어요.              11        기타   \n",
      "\n",
      "  satisfaction_score              call_summary  \n",
      "0                 부정           기타 불만 사항이 있습니다.  \n",
      "1              강한 불만  보험료를 해지하고 싶은데 절차가 복잡합니다.  \n",
      "2              강한 불만  보험금을 청구했는데 지급이 지연되고 있어요.  \n",
      "3              강한 불만  설계사가 계약 내용을 잘 설명하지 않았어요.  \n",
      "4              강한 불만  설계사가 계약 내용을 잘 설명하지 않았어요.  \n"
     ]
    }
   ],
   "source": [
    "#3. 고객명을 고객ID로 변경\n",
    "\n",
    "import pandas as pd\n",
    "\n",
    "# 데이터 로드\n",
    "data = pd.read_csv(\"january_negative_customers.csv\")\n",
    "\n",
    "# 고객 이름을 고객 ID로 대체\n",
    "data[\"customer_name\"] = data[\"customer_id\"]\n",
    "\n",
    "# 결과 확인\n",
    "print(data.head())\n",
    "\n",
    "# 전처리된 데이터 저장\n",
    "data.to_csv(\"processed_january_negative_customers.csv\", index=False, encoding=\"utf-8-sig\")\n"
   ]
  }
 ],
 "metadata": {
  "kernelspec": {
   "display_name": "study",
   "language": "python",
   "name": "python3"
  },
  "language_info": {
   "codemirror_mode": {
    "name": "ipython",
    "version": 3
   },
   "file_extension": ".py",
   "mimetype": "text/x-python",
   "name": "python",
   "nbconvert_exporter": "python",
   "pygments_lexer": "ipython3",
   "version": "3.12.8"
  }
 },
 "nbformat": 4,
 "nbformat_minor": 2
}
